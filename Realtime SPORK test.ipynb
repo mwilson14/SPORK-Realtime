{
 "cells": [
  {
   "cell_type": "code",
   "execution_count": null,
   "id": "developmental-nutrition",
   "metadata": {},
   "outputs": [],
   "source": [
    "from realtime_SPORK_framework import spork_realtime\n",
    "\n",
    "import numpy as np\n",
    "import pandas as pd\n",
    "from datetime import datetime, timedelta"
   ]
  },
  {
   "cell_type": "code",
   "execution_count": null,
   "id": "presidential-reducing",
   "metadata": {},
   "outputs": [],
   "source": [
    "zdrlev = [2.0]\n",
    "kdplev = [1.5]\n",
    "REFlev = [45]\n",
    "REFlev1 = [50]\n",
    "big_storm = [300]\n",
    "calibration = [0.0]\n",
    "station = 'KGGW'\n",
    "Bunkers_m = [240]\n"
   ]
  },
  {
   "cell_type": "code",
   "execution_count": null,
   "id": "neural-cement",
   "metadata": {},
   "outputs": [],
   "source": [
    "spork_test = spork_realtime(zdrlev, kdplev, REFlev, REFlev1, big_storm, calibration, station, Bunkers_m, track_dis=10, GR_mins=3.0)"
   ]
  },
  {
   "cell_type": "code",
   "execution_count": null,
   "id": "primary-cloud",
   "metadata": {},
   "outputs": [],
   "source": []
  }
 ],
 "metadata": {
  "kernelspec": {
   "display_name": "Python 3",
   "language": "python",
   "name": "python3"
  },
  "language_info": {
   "codemirror_mode": {
    "name": "ipython",
    "version": 3
   },
   "file_extension": ".py",
   "mimetype": "text/x-python",
   "name": "python",
   "nbconvert_exporter": "python",
   "pygments_lexer": "ipython3",
   "version": "3.8.5"
  }
 },
 "nbformat": 4,
 "nbformat_minor": 5
}
